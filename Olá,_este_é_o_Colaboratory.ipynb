{
  "cells": [
    {
      "cell_type": "markdown",
      "metadata": {
        "id": "view-in-github",
        "colab_type": "text"
      },
      "source": [
        "<a href=\"https://colab.research.google.com/github/blacksheepfull/AZ-900/blob/main/Ol%C3%A1%2C_este_%C3%A9_o_Colaboratory.ipynb\" target=\"_parent\"><img src=\"https://colab.research.google.com/assets/colab-badge.svg\" alt=\"Open In Colab\"/></a>"
      ]
    },
    {
      "cell_type": "code",
      "source": [
        "#Jogo de adivinhação\n",
        "#numr 0 a 100\n",
        "try:\n",
        "  alvo = 56\n",
        "\n",
        "  chute = int(input(\"Digite um número  inteiro entre 0 e 100: \"))\n",
        "\n",
        "  if chute == alvo:\n",
        "    print(\"Parabens, você acertou!\")\n",
        "  else:\n",
        "    print(\"Que pena, boa sorte na proxima!\")\n",
        "except:\n",
        "  print(\"O valor digitado deve ser um numero inteiro\")\n",
        ""
      ],
      "metadata": {
        "id": "01-XKG-7fhrY",
        "outputId": "81fd40de-013e-456e-f914-1b4a726344c6",
        "colab": {
          "base_uri": "https://localhost:8080/"
        }
      },
      "execution_count": 8,
      "outputs": [
        {
          "output_type": "stream",
          "name": "stdout",
          "text": [
            "Digite um número  inteiro entre 0 e 100: 100\n",
            "Que pena, boa sorte na proxima!\n"
          ]
        }
      ]
    }
  ],
  "metadata": {
    "colab": {
      "name": "Olá, este é o Colaboratory",
      "toc_visible": true,
      "provenance": [],
      "include_colab_link": true
    },
    "kernelspec": {
      "display_name": "Python 3",
      "name": "python3"
    }
  },
  "nbformat": 4,
  "nbformat_minor": 0
}